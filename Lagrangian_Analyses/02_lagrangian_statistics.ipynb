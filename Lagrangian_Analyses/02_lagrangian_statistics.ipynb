{
 "cells": [
  {
   "cell_type": "markdown",
   "metadata": {},
   "source": [
    "# Computing Lagrangian Statistics"
   ]
  },
  {
   "cell_type": "markdown",
   "metadata": {},
   "source": [
    "# Running OpenDrift\n",
    "\n",
    "<div class=\"warning\" style='padding:0.1em; background-color:#FFFFFF; color:#000000; border-left: solid #000000 4px; border-radius: 4px; padding:0.7em;'>\n",
    "<span>\n",
    "<p style='margin-top:1em; text-align:rigth; margin-left:1em'>\n",
    "<b>Objective: </b> Compute some lagrangian statistics using the file produced with OpenDrift </p>\n",
    "<p style='margin-left:1em;'>\n",
    "The lagrangian statistics computed here used the get_statistics.py script and computes Probability Density Functions, Connectivity Matrices and Covariance Matrices, as stranded particles statistics.\n",
    "</p>\n",
    "<p style='margin-left:1em;'>\n",
    "Dec - 2023 | Mireya M. Montano | mireya.mmor@gmail.com\n",
    "</p>\n",
    "<p style='margin-bottom:1em; margin-right:1em; text-align:right; font-family:Georgia'>\n",
    "</p></span>\n",
    "</div>\n"
   ]
  },
  {
   "cell_type": "markdown",
   "metadata": {},
   "source": [
    "## Parameters needed"
   ]
  },
  {
   "cell_type": "code",
   "execution_count": 2,
   "metadata": {},
   "outputs": [],
   "source": [
    "file_list = \"output/200301_Particles_control.nc\"\n",
    "id = \"control\"\n",
    "PDF = [120, 90]\n",
    "CM = True\n",
    "CV = True\n",
    "stranded = True\n",
    "time_of_interest = (7,)\n",
    "time_of_interest_units = (\"D\",)\n",
    "patch = \"output/Patches_connectivity\""
   ]
  },
  {
   "cell_type": "code",
   "execution_count": 3,
   "metadata": {},
   "outputs": [],
   "source": [
    "from Lagrangian_Analyses.get_statistics import get_statistics"
   ]
  },
  {
   "cell_type": "code",
   "execution_count": null,
   "metadata": {},
   "outputs": [],
   "source": []
  }
 ],
 "metadata": {
  "kernelspec": {
   "display_name": "lagrangian",
   "language": "python",
   "name": "python3"
  },
  "language_info": {
   "codemirror_mode": {
    "name": "ipython",
    "version": 3
   },
   "file_extension": ".py",
   "mimetype": "text/x-python",
   "name": "python",
   "nbconvert_exporter": "python",
   "pygments_lexer": "ipython3",
   "version": "3.11.6"
  }
 },
 "nbformat": 4,
 "nbformat_minor": 2
}

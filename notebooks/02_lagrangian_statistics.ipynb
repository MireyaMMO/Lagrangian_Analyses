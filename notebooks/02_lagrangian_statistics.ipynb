{
 "cells": [
  {
   "cell_type": "markdown",
   "metadata": {},
   "source": [
    "# Computing Lagrangian Statistics"
   ]
  },
  {
   "cell_type": "markdown",
   "metadata": {},
   "source": [
    "# Running OpenDrift\n",
    "\n",
    "<div class=\"warning\" style='padding:0.1em; background-color:#FFFFFF; color:#000000; border-left: solid #000000 4px; border-radius: 4px; padding:0.7em;'>\n",
    "<span>\n",
    "<p style='margin-top:1em; text-align:rigth; margin-left:1em'>\n",
    "<b>Objective: </b> Compute some lagrangian statistics using the file produced with OpenDrift </p>\n",
    "<p style='margin-left:1em;'>\n",
    "The lagrangian statistics computed here used the get_statistics.py script and computes Probability Density Functions, Connectivity Matrices and Covariance Matrices, as stranded particles statistics.\n",
    "</p>\n",
    "<p style='margin-left:1em;'>\n",
    "Dec - 2023 | Mireya M. Montano | mireya.mmor@gmail.com\n",
    "</p>\n",
    "<p style='margin-bottom:1em; margin-right:1em; text-align:right; font-family:Georgia'>\n",
    "</p></span>\n",
    "</div>\n"
   ]
  },
  {
   "cell_type": "markdown",
   "metadata": {},
   "source": [
    "## Parameters needed"
   ]
  },
  {
   "cell_type": "code",
   "execution_count": 1,
   "metadata": {},
   "outputs": [],
   "source": [
    "from glob import glob\n",
    "\n",
    "file_list = sorted(glob(\"output/200*_Particles_control.nc\"))\n",
    "outdir = \"output/stats\"\n",
    "id = \"control\"\n",
    "PDF = [120, 90]\n",
    "CM = True\n",
    "CV = True\n",
    "stranded = True\n",
    "time_of_interest = 7\n",
    "time_of_interest_units = \"D\"\n",
    "patch = \"output/Patches_connectivity\""
   ]
  },
  {
   "cell_type": "code",
   "execution_count": 2,
   "metadata": {},
   "outputs": [
    {
     "name": "stdout",
     "output_type": "stream",
     "text": [
      "Analysing output/200301_Particles_control.nc\n",
      "Analysing output/200401_Particles_control.nc\n",
      "Calculating the average of desired variables\n",
      "--- Saving PDF associated parameters: normalised PDF (n_PDF), and bin edges (PDF_xedges,)\n"
     ]
    },
    {
     "ename": "FileNotFoundError",
     "evalue": "[Errno 2] No such file or directory: 'output/stats//PDF_control.p'",
     "output_type": "error",
     "traceback": [
      "\u001b[0;31m---------------------------------------------------------------------------\u001b[0m",
      "\u001b[0;31mFileNotFoundError\u001b[0m                         Traceback (most recent call last)",
      "Cell \u001b[0;32mIn[2], line 16\u001b[0m\n\u001b[1;32m      1\u001b[0m \u001b[38;5;28;01mfrom\u001b[39;00m \u001b[38;5;21;01mLagrangian_Analyses\u001b[39;00m\u001b[38;5;21;01m.\u001b[39;00m\u001b[38;5;21;01mget_statistics\u001b[39;00m \u001b[38;5;28;01mimport\u001b[39;00m get_statistics\n\u001b[1;32m      3\u001b[0m stats \u001b[38;5;241m=\u001b[39m get_statistics(\n\u001b[1;32m      4\u001b[0m     file_list\u001b[38;5;241m=\u001b[39mfile_list,\n\u001b[1;32m      5\u001b[0m     outdir\u001b[38;5;241m=\u001b[39moutdir,\n\u001b[0;32m   (...)\u001b[0m\n\u001b[1;32m     13\u001b[0m     patch\u001b[38;5;241m=\u001b[39mpatch,\n\u001b[1;32m     14\u001b[0m )\n\u001b[0;32m---> 16\u001b[0m \u001b[43mstats\u001b[49m\u001b[38;5;241;43m.\u001b[39;49m\u001b[43mrun\u001b[49m\u001b[43m(\u001b[49m\u001b[43m)\u001b[49m\n",
      "File \u001b[0;32m~/Documents/PhD/Lagrangian_Analyses/Lagrangian_Analyses/get_statistics.py:244\u001b[0m, in \u001b[0;36mget_statistics.run\u001b[0;34m(self)\u001b[0m\n\u001b[1;32m    234\u001b[0m     \u001b[38;5;28mprint\u001b[39m(\n\u001b[1;32m    235\u001b[0m         \u001b[38;5;124m\"\u001b[39m\u001b[38;5;124m--- Saving PDF associated parameters: normalised PDF (n_PDF), and bin edges (PDF_xedges,)\u001b[39m\u001b[38;5;124m\"\u001b[39m\n\u001b[1;32m    236\u001b[0m     )\n\u001b[1;32m    237\u001b[0m     \u001b[38;5;28mself\u001b[39m\u001b[38;5;241m.\u001b[39mnorm_pdf, \u001b[38;5;28mself\u001b[39m\u001b[38;5;241m.\u001b[39mxedges, \u001b[38;5;28mself\u001b[39m\u001b[38;5;241m.\u001b[39myedges \u001b[38;5;241m=\u001b[39m \u001b[38;5;28mself\u001b[39m\u001b[38;5;241m.\u001b[39mget_pdf(PDF)\n\u001b[1;32m    238\u001b[0m     pickle\u001b[38;5;241m.\u001b[39mdump(\n\u001b[1;32m    239\u001b[0m         [\n\u001b[1;32m    240\u001b[0m             \u001b[38;5;28mself\u001b[39m\u001b[38;5;241m.\u001b[39mnorm_pdf,\n\u001b[1;32m    241\u001b[0m             \u001b[38;5;28mself\u001b[39m\u001b[38;5;241m.\u001b[39mxedges,\n\u001b[1;32m    242\u001b[0m             \u001b[38;5;28mself\u001b[39m\u001b[38;5;241m.\u001b[39myedges,\n\u001b[1;32m    243\u001b[0m         ],\n\u001b[0;32m--> 244\u001b[0m         \u001b[38;5;28;43mopen\u001b[39;49m\u001b[43m(\u001b[49m\u001b[38;5;124;43mf\u001b[39;49m\u001b[38;5;124;43m\"\u001b[39;49m\u001b[38;5;132;43;01m{\u001b[39;49;00m\u001b[38;5;28;43mself\u001b[39;49m\u001b[38;5;241;43m.\u001b[39;49m\u001b[43moutdir\u001b[49m\u001b[38;5;132;43;01m}\u001b[39;49;00m\u001b[38;5;124;43m/PDF_\u001b[39;49m\u001b[38;5;132;43;01m{\u001b[39;49;00m\u001b[38;5;28;43mself\u001b[39;49m\u001b[38;5;241;43m.\u001b[39;49m\u001b[43mid\u001b[49m\u001b[38;5;132;43;01m}\u001b[39;49;00m\u001b[38;5;124;43m.p\u001b[39;49m\u001b[38;5;124;43m\"\u001b[39;49m\u001b[43m,\u001b[49m\u001b[43m \u001b[49m\u001b[38;5;124;43m\"\u001b[39;49m\u001b[38;5;124;43mwb\u001b[39;49m\u001b[38;5;124;43m\"\u001b[39;49m\u001b[43m)\u001b[49m,\n\u001b[1;32m    245\u001b[0m     )\n\u001b[1;32m    246\u001b[0m \u001b[38;5;28;01mif\u001b[39;00m \u001b[38;5;28mself\u001b[39m\u001b[38;5;241m.\u001b[39mCM:\n\u001b[1;32m    247\u001b[0m     \u001b[38;5;28mprint\u001b[39m(\u001b[38;5;124m\"\u001b[39m\u001b[38;5;124m--- Saving Connectivity Matrix associated parameters: normalised CM\u001b[39m\u001b[38;5;124m\"\u001b[39m)\n",
      "\u001b[0;31mFileNotFoundError\u001b[0m: [Errno 2] No such file or directory: 'output/stats//PDF_control.p'"
     ]
    }
   ],
   "source": [
    "from Lagrangian_Analyses.get_statistics import get_statistics\n",
    "\n",
    "stats = get_statistics(\n",
    "    file_list=file_list,\n",
    "    outdir=outdir,\n",
    "    id=id,\n",
    "    PDF=PDF,\n",
    "    CM=CM,\n",
    "    CV=CV,\n",
    "    stranded=stranded,\n",
    "    time_of_interest=time_of_interest,\n",
    "    time_of_interest_units=time_of_interest_units,\n",
    "    patch=patch,\n",
    ")\n",
    "\n",
    "stats.run()"
   ]
  },
  {
   "cell_type": "code",
   "execution_count": null,
   "metadata": {},
   "outputs": [],
   "source": []
  }
 ],
 "metadata": {
  "kernelspec": {
   "display_name": "lagrangian",
   "language": "python",
   "name": "python3"
  },
  "language_info": {
   "codemirror_mode": {
    "name": "ipython",
    "version": 3
   },
   "file_extension": ".py",
   "mimetype": "text/x-python",
   "name": "python",
   "nbconvert_exporter": "python",
   "pygments_lexer": "ipython3",
   "version": "3.11.6"
  }
 },
 "nbformat": 4,
 "nbformat_minor": 2
}

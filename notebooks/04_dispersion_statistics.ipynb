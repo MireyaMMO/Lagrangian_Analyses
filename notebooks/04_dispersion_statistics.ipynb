{
 "cells": [
  {
   "cell_type": "markdown",
   "metadata": {},
   "source": [
    "# Computing Absolute and Relative Dispersion Statistics\n",
    "\n",
    "<div class=\"warning\" style='padding:0.1em; background-color:#FFFFFF; color:#000000; border-left: solid #000000 4px; border-radius: 4px; padding:0.7em;'>\n",
    "<span>\n",
    "<p style='margin-top:1em; text-align:rigth; margin-left:1em'>\n",
    "<b>Objective: </b> Compute absolute and relative dispersion using the file produced with OpenDrift </p>\n",
    "<p style='margin-left:1em;'>\n",
    "\n",
    "</p>\n",
    "<p style='margin-left:1em;'>\n",
    "Dec - 2023 | Mireya M. Montano | mireya.mmor@gmail.com\n",
    "</p>\n",
    "<p style='margin-bottom:1em; margin-right:1em; text-align:right; font-family:Georgia'>\n",
    "</p></span>\n",
    "</div>"
   ]
  },
  {
   "cell_type": "markdown",
   "metadata": {},
   "source": [
    "## Parameters needed\n",
    "\n",
    "- file_list (str) List of OpenDrift files to analyse\n",
    "- outdir (str) path of the directory where to save the output\n",
    "- id (str) Unique identifier for the experiment. i.e. 'control', 'no_stranding', 'ns' \n",
    "- RD (boolean) If True it calculates the relative dispersion of the provided file. Default True\n",
    "- AD (boolean) If True it calculates the absolute dispersion of the provided file. Default True"
   ]
  },
  {
   "cell_type": "code",
   "execution_count": null,
   "metadata": {},
   "outputs": [],
   "source": [
    "from glob import glob\n",
    "\n",
    "id = \"control\"\n",
    "file_list = sorted(glob(f\"output/notebook_01/*01_Particles_{id}.nc\"))\n",
    "outdir = \"output/notebook_04\""
   ]
  },
  {
   "cell_type": "code",
   "execution_count": null,
   "metadata": {},
   "outputs": [],
   "source": [
    "from Lagrangian_Analyses.get_dispersion_statistics import get_dispersion_statistics\n",
    "\n",
    "dispersion = get_dispersion_statistics(\n",
    "    file_list,\n",
    "    outdir,\n",
    "    id,\n",
    ")\n",
    "\n",
    "dispersion.run()"
   ]
  },
  {
   "cell_type": "markdown",
   "metadata": {},
   "source": []
  }
 ],
 "metadata": {
  "kernelspec": {
   "display_name": "lagrangian",
   "language": "python",
   "name": "python3"
  },
  "language_info": {
   "codemirror_mode": {
    "name": "ipython",
    "version": 3
   },
   "file_extension": ".py",
   "mimetype": "text/x-python",
   "name": "python",
   "nbconvert_exporter": "python",
   "pygments_lexer": "ipython3",
   "version": "3.11.6"
  }
 },
 "nbformat": 4,
 "nbformat_minor": 2
}

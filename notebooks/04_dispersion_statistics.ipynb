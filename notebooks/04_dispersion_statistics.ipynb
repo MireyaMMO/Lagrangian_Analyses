{
 "cells": [
  {
   "cell_type": "markdown",
   "metadata": {},
   "source": [
    "# Computing Absolute and Relative Dispersion Statistics\n",
    "\n",
    "<div class=\"warning\" style='padding:0.1em; background-color:#FFFFFF; color:#000000; border-left: solid #000000 4px; border-radius: 4px; padding:0.7em;'>\n",
    "<span>\n",
    "<p style='margin-top:1em; text-align:rigth; margin-left:1em'>\n",
    "<b>Objective: </b> Compute absolute and relative dispersion for every time step using the file produced with OpenDrift </p>\n",
    "<p style='margin-left:1em;'>\n",
    "\n",
    "</p>\n",
    "<p style='margin-left:1em;'>\n",
    "Dec - 2023 | Mireya M. Montano | mireya.mmor@gmail.com\n",
    "</p>\n",
    "<p style='margin-bottom:1em; margin-right:1em; text-align:right; font-family:Georgia'>\n",
    "</p></span>\n",
    "</div>"
   ]
  },
  {
   "cell_type": "markdown",
   "metadata": {},
   "source": [
    "## Parameters needed\n",
    "\n",
    "- file_list (str) List of OpenDrift files to analyse\n",
    "- outdir (str) path of the directory where to save the output\n",
    "- id (str) Unique identifier for the experiment. i.e. 'control', 'no_stranding', 'ns' \n",
    "- RD (boolean) If True it calculates the relative dispersion of the provided file. Default True\n",
    "- AD (boolean) If True it calculates the absolute dispersion of the provided file. Default True"
   ]
  },
  {
   "cell_type": "code",
   "execution_count": null,
   "metadata": {},
   "outputs": [],
   "source": [
    "from glob import glob\n",
    "\n",
    "id = \"control\"\n",
    "file_list = [sorted(glob(f\"output/notebook_01/*01_Particles_{id}.nc\"))[0]]\n",
    "outdir = \"output/notebook_04\""
   ]
  },
  {
   "cell_type": "markdown",
   "metadata": {},
   "source": [
    "\n",
    "<div class=\"warning\" style='padding:0.1em; background-color:#FFFFFF; color:#E49B0F; border-left: solid #FDDA0D 4px; border-radius: 4px; padding:0.7em;'>\n",
    "<span>\n",
    "<p style='margin-top:1em; text-align:rigth; margin-left:1em'>\n",
    "<b>Note</b></p>\n",
    "<p style='margin-left:1em;'>\n",
    "This script takes time as it calculates the distance for each time step of each particle as part of the relative and absolute dispersion definition. \n",
    "</p></span>\n",
    "</div>\n"
   ]
  },
  {
   "cell_type": "code",
   "execution_count": null,
   "metadata": {},
   "outputs": [],
   "source": [
    "from Lagrangian_Analyses.get_dispersion_statistics import get_dispersion_statistics\n",
    "\n",
    "abs_dispersion = get_dispersion_statistics(\n",
    "    file_list,\n",
    "    outdir,\n",
    "    id,\n",
    "    RD=False,\n",
    ")\n",
    "\n",
    "abs_dispersion.run()"
   ]
  },
  {
   "cell_type": "code",
   "execution_count": null,
   "metadata": {},
   "outputs": [],
   "source": [
    "# from Lagrangian_Analyses.get_dispersion_statistics import get_dispersion_statistics\n",
    "\n",
    "# rel_dispersion = get_dispersion_statistics(\n",
    "#     file_list,\n",
    "#     outdir,\n",
    "#     id,\n",
    "#     AD=False,\n",
    "# )\n",
    "\n",
    "# rel_dispersion.run()"
   ]
  },
  {
   "cell_type": "markdown",
   "metadata": {},
   "source": [
    "## Plotting outputs\n",
    "### Absolute Dispersion\n",
    "\n",
    "The above returns a pickle file (`AD_{id}.p`) containing a dictionary with an item per location that includes the time step, total absolute dispersion, absolute dispersion in x and y components and the number of particles that were available for the calculation\n",
    "\n",
    "### Relative Dispersion\n",
    "The above returns a pickle file (`RD_{id}.p`) containing a dictionary with an item per location that includes the time step, total relative dispersion, relative dispersion in x and y components and the number of pair of partickes that were available for the calculation\n"
   ]
  },
  {
   "cell_type": "markdown",
   "metadata": {},
   "source": [
    "<div class=\"warning\" style='padding:0.1em; background-color:#FFFFFF; color:#CC5500; border-left: solid #FFA500 4px; border-radius: 4px; padding:0.7em;'>\n",
    "<span>\n",
    "<p style='margin-top:1em; text-align:rigth; margin-left:1em'>\n",
    "<b>Note</b></p>\n",
    "<p style='margin-left:1em;'>\n",
    "The number of particles and the number of pair of particles are included that with the progression of time particles strand/beach therefore not all time steps count with the same amount of partickes\n",
    "</p>\n",
    "<p style='margin-bottom:1em; margin-right:1em; text-align:right; font-family:Georgia'>\n",
    "</p></span>\n",
    "</div>"
   ]
  },
  {
   "cell_type": "code",
   "execution_count": null,
   "metadata": {},
   "outputs": [],
   "source": [
    "import pickle\n",
    "from Lagrangian_Analyses.utils import *\n",
    "import matplotlib.pyplot as plt\n",
    "import matplotlib as mpl\n",
    "\n",
    "plt.rcParams[\"font.family\"] = \"DeJavu Serif\"\n",
    "plt.rcParams[\"font.serif\"] = [\"Times New Roman\"]\n",
    "\n",
    "abs_dispersion_dict = pickle.load(open(f\"{outdir}/AD_{id}.p\", \"rb\"))\n",
    "\n",
    "fig = plt.figure(figsize=(7.8, 6.2))\n",
    "ax = fig.add_subplot(1, 1, 1)\n",
    "\n",
    "for location, items in abs_dispersion_dict.items():\n",
    "    x = items[0][\"time_step\"]\n",
    "    y = items[1][\"AD_t\"]\n",
    "    ax.plot(x, y, label=location)\n",
    "\n",
    "# ax.set_ylabel(\"Particles Settled\")\n",
    "# ax.set_xlabel(\"Distance from release\")\n",
    "ax.set_yscale(\"log\")\n",
    "ax.grid(axis=\"both\", which=\"major\", color=\"k\", linestyle=\"-\", linewidth=0.05)\n",
    "ax.legend()"
   ]
  },
  {
   "cell_type": "code",
   "execution_count": null,
   "metadata": {},
   "outputs": [],
   "source": []
  }
 ],
 "metadata": {
  "kernelspec": {
   "display_name": "lagrangian",
   "language": "python",
   "name": "python3"
  },
  "language_info": {
   "codemirror_mode": {
    "name": "ipython",
    "version": 3
   },
   "file_extension": ".py",
   "mimetype": "text/x-python",
   "name": "python",
   "nbconvert_exporter": "python",
   "pygments_lexer": "ipython3",
   "version": "3.11.6"
  }
 },
 "nbformat": 4,
 "nbformat_minor": 2
}
